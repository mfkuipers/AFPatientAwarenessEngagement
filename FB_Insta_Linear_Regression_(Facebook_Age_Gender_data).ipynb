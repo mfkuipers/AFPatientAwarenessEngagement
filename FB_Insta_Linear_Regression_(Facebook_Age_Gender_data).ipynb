{
  "nbformat": 4,
  "nbformat_minor": 0,
  "metadata": {
    "colab": {
      "provenance": [],
      "toc_visible": true
    },
    "kernelspec": {
      "name": "python3",
      "display_name": "Python 3"
    },
    "language_info": {
      "name": "python"
    }
  },
  "cells": [
    {
      "cell_type": "code",
      "execution_count": null,
      "metadata": {
        "id": "XujHhz2LopuA"
      },
      "outputs": [],
      "source": [
        "import pandas as pd\n",
        "from sklearn import linear_model\n",
        "import statsmodels.api as sm\n",
        "import matplotlib.pyplot as plt\n",
        "import numpy as np\n"
      ]
    },
    {
      "cell_type": "code",
      "source": [
        "!pip install pyreadstat\n"
      ],
      "metadata": {
        "id": "xOKVDGQisjA6"
      },
      "execution_count": null,
      "outputs": []
    },
    {
      "cell_type": "code",
      "source": [
        "df = pd.read_csv('YourFile')\n",
        "df.info()\n",
        "print(df)"
      ],
      "metadata": {
        "id": "jqW3fD23sBvt"
      },
      "execution_count": null,
      "outputs": []
    },
    {
      "cell_type": "markdown",
      "source": [
        "# Linear Regression"
      ],
      "metadata": {
        "id": "CNZpKIJvo7mD"
      }
    },
    {
      "cell_type": "markdown",
      "source": [
        "In order to make the linear regression model make sense, we need to filter the data so that only CTR (Link clicks) values of higher than 0 are taken into consideration."
      ],
      "metadata": {
        "id": "yJvCFGW1zKVM"
      }
    },
    {
      "cell_type": "code",
      "source": [
        "filtered_df = df[df['CTR (link click-through rate)'] > 0]\n",
        "row_count = len(filtered_df)\n",
        "filtered_df.info()"
      ],
      "metadata": {
        "id": "T4HI14F_zV2_"
      },
      "execution_count": null,
      "outputs": []
    },
    {
      "cell_type": "markdown",
      "source": [
        "# Model 1: Main Communication Variables\n"
      ],
      "metadata": {
        "id": "unLEP2ARvpAq"
      }
    },
    {
      "cell_type": "code",
      "source": [
        "X = df[['Emotion_Fear', 'Topic_Affiliation', 'Topic_Kincare', 'Appeal_Testi', 'Appeal_Pers', 'LStyle_Tperson']]\n",
        "Y = df['CTR (link click-through rate)']"
      ],
      "metadata": {
        "id": "lvK3Rnvgs0W0"
      },
      "execution_count": null,
      "outputs": []
    },
    {
      "cell_type": "code",
      "source": [
        "X = sm.add_constant(X)\n",
        "model = sm.OLS(Y, X).fit()\n",
        "predictions = model.predict(X)\n",
        "print_model = model.summary()\n",
        "print(print_model)"
      ],
      "metadata": {
        "id": "hZLmyMg4s9QO"
      },
      "execution_count": null,
      "outputs": []
    },
    {
      "cell_type": "markdown",
      "source": [
        "# Model 2: Supportive Model with Control Variables\n",
        "Control variables to include:\n",
        "\n",
        "\n",
        "*   Age: Age_18-24, Age_25-34, Age_35-44, Age_45-54, Age_55-65, Age_65+\n",
        "*   Gender: Gender_Female, Gender_Unknown\n",
        "*   Frequency (How often ad was shown to user)"
      ],
      "metadata": {
        "id": "DZZwX2f4SmfM"
      }
    },
    {
      "cell_type": "code",
      "source": [
        "X = df[['Age_18-24', 'Age_25-34', 'Age_35-44', 'Age_45-54', 'Age_55-64', 'Age_65+','Gender_Female','Gender_Unknown','Frequency']]\n",
        "Y = df['CTR (link click-through rate)']"
      ],
      "metadata": {
        "id": "TU6KjzYISq3S"
      },
      "execution_count": null,
      "outputs": []
    },
    {
      "cell_type": "code",
      "source": [
        "X = sm.add_constant(X)\n",
        "model = sm.OLS(Y, X).fit()\n",
        "predictions = model.predict(X)\n",
        "print_model = model.summary()\n",
        "print(print_model)"
      ],
      "metadata": {
        "id": "35BdIxW5StyC"
      },
      "execution_count": null,
      "outputs": []
    },
    {
      "cell_type": "markdown",
      "source": [
        "# Model 3: Campaign dummies and control variables\n",
        "This section contains out models that measure the effect the content related dummies have on avg_engagement_time_sec while also includig the control variables.\n",
        "\n",
        "The campaign dummies:\n",
        "\n",
        "\n",
        "*  Emotion (Love vs. Fear)\n",
        "*  Topic (Self-protection vs. Affiliation vs. Kincare)\n",
        "*  Appeal 1 (Expert vs. Testimonial)\n",
        "*  Appeal 2 (Informative vs. Persuasive)\n",
        "*  Linguistic style (First-person vs. Third-person)\n",
        "\n",
        "Control variables that are included:\n",
        "\n",
        "\n",
        "*   Age: Age_18-24, Age_25-34, Age_35-44, Age_45-54, Age_55-65, Age_65+\n",
        "*   Gender: Gender_Female, Gender_Unknown\n",
        "*   Frequency (How often ad was shown to user)"
      ],
      "metadata": {
        "id": "vJW2Y36LDIK6"
      }
    },
    {
      "cell_type": "code",
      "source": [
        "X = df[['Emotion_Fear','Topic_Affiliation','Topic_Kincare','Appeal_Testi','Appeal_Pers','LStyle_Tperson','Age_18-24', 'Age_25-34', 'Age_35-44', 'Age_45-54', 'Age_55-64', 'Age_65+','Gender_Female','Gender_Unknown','Frequency']]\n",
        "Y = df['CTR (link click-through rate)']"
      ],
      "metadata": {
        "id": "7hT1uRT7yfeg"
      },
      "execution_count": null,
      "outputs": []
    },
    {
      "cell_type": "code",
      "source": [
        "X = sm.add_constant(X)\n",
        "model = sm.OLS(Y, X).fit()\n",
        "predictions = model.predict(X)\n",
        "print_model = model.summary()\n",
        "print(print_model)"
      ],
      "metadata": {
        "id": "ieIJNrDhyzYe"
      },
      "execution_count": null,
      "outputs": []
    }
  ]
}