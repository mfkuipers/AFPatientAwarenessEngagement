{
  "nbformat": 4,
  "nbformat_minor": 0,
  "metadata": {
    "colab": {
      "provenance": []
    },
    "kernelspec": {
      "name": "python3",
      "display_name": "Python 3"
    },
    "language_info": {
      "name": "python"
    }
  },
  "cells": [
    {
      "cell_type": "markdown",
      "source": [
        "# Introduction\n",
        "This document will describe the steps that were taken to prepare the Facebook / Instagram data set (containing information on platform and device used) for analysis.\n",
        "\n",
        "The data set contains data coming from an online (health-related) field experiment, by the AFIP Foundation, that ran between May 23 until June 23 (2023). 12 different advertisements were distributed on Facebook and Instagram and sent people to the OHC of the AFIP Foundation\n",
        "on which different levels of web behavior and engagement was measured. This data originates from Facebook and Instagram and contains information on the Gender and Age of users and their behavior towards the advertisements of the experiment. The data set is cleaned up and prepared for analysis through the code below.\n"
      ],
      "metadata": {
        "id": "cFrEVZpm5A3m"
      }
    },
    {
      "cell_type": "code",
      "execution_count": null,
      "metadata": {
        "id": "yDpb5EKe42Ov"
      },
      "outputs": [],
      "source": [
        "import pandas as pd\n",
        "!pip install pyreadstat\n",
        "import pyreadstat\n",
        "import re\n",
        "\n",
        "# Read the CSV file\n",
        "df = pd.read_excel('YourFile')"
      ]
    },
    {
      "cell_type": "code",
      "source": [
        "final_data = df\n",
        "final_data = df.copy()\n",
        "#Checking whether the file is coming through correctly in the dataframe\n",
        "final_data.head()"
      ],
      "metadata": {
        "id": "a-tDEgRdOPnR"
      },
      "execution_count": null,
      "outputs": []
    },
    {
      "cell_type": "markdown",
      "source": [
        "# Creating dummy variables\n",
        "\n",
        "In this data set, multiple dummy variables are created. This section will explain the definition of the dummy variables, followed by the code.\n",
        "\n",
        "**Communication Concept Dummies**\n",
        "\n",
        "Dummies are assigned based on the Ad set name that was given to the advertisement. The experiment contains 12 different variants. The concepts (i.e., concepts 1 to 12) contain differtent emotions, topics, appeal and linguistic style.\n",
        "\n",
        "*   Concept 1: contains 'Concept 1' in Ad set name\n",
        "*   Concept 2: contains 'Concept 2' in Ad set name\n",
        "*   Concept 3: contains 'Concept 3' in Ad set name\n",
        "*   Concept 4: contains 'Concept 4' in Ad set name\n",
        "*   Concept 5: contains 'Concept 5' in Ad set name\n",
        "*   Concept 6: contains 'Concept 6' in Ad set name\n",
        "*   Concept 7: contains 'Concept 7' in Ad set name\n",
        "*   Concept 8: contains 'Concept 8' in Ad set name\n",
        "*   Concept 9: contains 'Concept 9' in Ad set name\n",
        "*   Concept 10: contains 'Concept 10' in Ad set name\n",
        "*   Concept 11: contains 'Concept 11' in Ad set name\n",
        "*   Concept 12: contains 'Concept 12' in Ad set name\n",
        "\n"
      ],
      "metadata": {
        "id": "L_e5T4Tj-jIq"
      }
    },
    {
      "cell_type": "code",
      "source": [
        "def generate_content_dummies(ad_set_name):\n",
        "    content_dummies = {\n",
        "        'Emotion_Love':0,\n",
        "        'Emotion_Fear': 0,\n",
        "        'Topic_Sprotection':0,\n",
        "        'Topic_Affiliation': 0,\n",
        "        'Topic_Kincare': 0,\n",
        "        'Appeal_Exp':0,\n",
        "        'Appeal_Testi': 0,\n",
        "        'Appeal_Infor':0,\n",
        "        'Appeal_Pers': 0,\n",
        "        'LStyle_Fperson':0,\n",
        "        'LStyle_Tperson': 0,\n",
        "    }\n",
        "\n",
        "\n",
        "    if 'Concept 1' in ad_set_name:\n",
        "        content_dummies['Emotion_Love'] = 1\n",
        "        content_dummies['Topic_Kincare'] = 1\n",
        "        content_dummies['Appeal_Testi'] = 1\n",
        "        content_dummies['Appeal_Pers'] = 1\n",
        "        content_dummies['LStyle_Fperson'] = 1\n",
        "    elif 'Concept 2' in ad_set_name:\n",
        "        content_dummies['Emotion_Fear'] = 1\n",
        "        content_dummies['Topic_Sprotection'] = 1\n",
        "        content_dummies['Appeal_Exp'] = 1\n",
        "        content_dummies['Appeal_Infor'] = 1\n",
        "        content_dummies['LStyle_Tperson'] = 1\n",
        "    elif 'Concept 3' in ad_set_name:\n",
        "        content_dummies['Emotion_Fear'] = 1\n",
        "        content_dummies['Topic_Affiliation'] = 1\n",
        "        content_dummies['Appeal_Testi'] = 1\n",
        "        content_dummies['Appeal_Pers'] = 1\n",
        "        content_dummies['LStyle_Tperson'] = 1\n",
        "    elif 'Concept 4' in ad_set_name:\n",
        "        content_dummies['Emotion_Love'] = 1\n",
        "        content_dummies['Topic_Sprotection'] = 1\n",
        "        content_dummies['Appeal_Testi'] = 1\n",
        "        content_dummies['Appeal_Infor'] = 1\n",
        "        content_dummies['LStyle_Fperson'] = 1\n",
        "    elif 'Concept 5' in ad_set_name:\n",
        "        content_dummies['Emotion_Fear'] = 1\n",
        "        content_dummies['Topic_Kincare'] = 1\n",
        "        content_dummies['Appeal_Exp'] = 1\n",
        "        content_dummies['Appeal_Infor'] = 1\n",
        "        content_dummies['LStyle_Fperson'] = 1\n",
        "    elif 'Concept 6' in ad_set_name:\n",
        "        content_dummies['Emotion_Love'] = 1\n",
        "        content_dummies['Topic_Affiliation'] = 1\n",
        "        content_dummies['Appeal_Testi'] = 1\n",
        "        content_dummies['Appeal_Infor'] = 1\n",
        "        content_dummies['LStyle_Tperson'] = 1\n",
        "    elif 'Concept 7' in ad_set_name:\n",
        "        content_dummies['Emotion_Fear'] = 1\n",
        "        content_dummies['Topic_Kincare'] = 1\n",
        "        content_dummies['Appeal_Testi'] = 1\n",
        "        content_dummies['Appeal_Pers'] = 1\n",
        "        content_dummies['LStyle_Tperson'] = 1\n",
        "    elif 'Concept 8' in ad_set_name:\n",
        "        content_dummies['Emotion_Love'] = 1\n",
        "        content_dummies['Topic_Affiliation'] = 1\n",
        "        content_dummies['Appeal_Exp'] = 1\n",
        "        content_dummies['Appeal_Infor'] = 1\n",
        "        content_dummies['LStyle_Fperson'] = 1\n",
        "    elif 'Concept 9' in ad_set_name:\n",
        "        content_dummies['Emotion_Fear'] = 1\n",
        "        content_dummies['Topic_Sprotection'] = 1\n",
        "        content_dummies['Appeal_Exp'] = 1\n",
        "        content_dummies['Appeal_Testi'] = 1\n",
        "        content_dummies['Appeal_Pers'] = 1\n",
        "        content_dummies['LStyle_Fperson'] = 1\n",
        "    elif 'Concept 10' in ad_set_name:\n",
        "        content_dummies['Emotion_Love'] = 1\n",
        "        content_dummies['Topic_Kincare'] = 1\n",
        "        content_dummies['Appeal_Exp'] = 1\n",
        "        content_dummies['Appeal_Infor'] = 1\n",
        "        content_dummies['LStyle_Tperson'] = 1\n",
        "    elif 'Concept 11' in ad_set_name:\n",
        "        content_dummies['Emotion_Love'] = 1\n",
        "        content_dummies['Topic_Affiliation'] = 1\n",
        "        content_dummies['Appeal_Exp'] = 1\n",
        "        content_dummies['Appeal_Pers'] = 1\n",
        "        content_dummies['LStyle_Tperson'] = 1\n",
        "    elif 'Concept 12' in ad_set_name:\n",
        "        content_dummies['Emotion_Fear'] = 1\n",
        "        content_dummies['Topic_Sprotection'] = 1\n",
        "        content_dummies['Appeal_Exp'] = 1\n",
        "        content_dummies['Appeal_Pers'] = 1\n",
        "        content_dummies['LStyle_Fperson'] = 1\n",
        "\n",
        "    return content_dummies"
      ],
      "metadata": {
        "id": "F54KiDEo-Ouh"
      },
      "execution_count": null,
      "outputs": []
    },
    {
      "cell_type": "markdown",
      "source": [
        "**Concept label dummies**\n",
        "\n",
        "This function creates a variable, named 'concepts', that will label the concept numbers based on the Ad set names."
      ],
      "metadata": {
        "id": "O5odtVjgA8ms"
      }
    },
    {
      "cell_type": "code",
      "source": [
        "def generate_concept(ad_set_name):\n",
        "\n",
        "    if 'Concept 1' in ad_set_name:\n",
        "        return 1\n",
        "    elif 'Concept 2' in ad_set_name:\n",
        "        return 2\n",
        "    elif 'Concept 3' in ad_set_name:\n",
        "        return 3\n",
        "    elif 'Concept 4' in ad_set_name:\n",
        "        return 4\n",
        "    elif 'Concept 5' in ad_set_name:\n",
        "        return 5\n",
        "    elif 'Concept 6' in ad_set_name:\n",
        "        return 6\n",
        "    elif 'Concept 7' in ad_set_name:\n",
        "        return 7\n",
        "    elif 'Concept 8' in ad_set_name:\n",
        "        return 8\n",
        "    elif 'Concept 9' in ad_set_name:\n",
        "        return 9\n",
        "    elif 'Concept 10' in ad_set_name:\n",
        "        return 10\n",
        "    elif 'Concept 11' in ad_set_name:\n",
        "        return 11\n",
        "    elif 'Concept 12' in ad_set_name:\n",
        "        return 12\n",
        "    else:\n",
        "        return 0\n"
      ],
      "metadata": {
        "id": "4tTUOs7dA_2d"
      },
      "execution_count": null,
      "outputs": []
    },
    {
      "cell_type": "markdown",
      "source": [
        "The next step is to apply the results from the functions to the dataframe."
      ],
      "metadata": {
        "id": "qw48JPzvBaLN"
      }
    },
    {
      "cell_type": "code",
      "source": [
        "final_data['concept'] = final_data['Ad set name'].apply(generate_concept)\n",
        "\n",
        "# Creating a new dataframe with the dummy variables\n",
        "dummy_df = final_data['Ad set name'].apply(generate_content_dummies).apply(pd.Series)\n",
        "final_data = pd.concat([final_data, dummy_df], axis=1)"
      ],
      "metadata": {
        "id": "6W_FJF6JBm5K"
      },
      "execution_count": null,
      "outputs": []
    },
    {
      "cell_type": "markdown",
      "source": [
        "**Other dummies**\n",
        "\n",
        "*Platform*\n",
        "\n",
        "The data sets contains facebook and instagram as platforms:\n",
        "\n",
        "\n",
        "*   00 = Facebook\n",
        "*   01 = Instagram\n",
        "\n",
        "*Impression Device*\n",
        "\n",
        "Devices have been divided in the following categories: android_smartphone, android_tablet, desktop, ipad, iphone, ipod and other.\n",
        "\n",
        "\n",
        "*   000000 = android_tablet\n",
        "*   010000 = desktop\n",
        "*   001000 = ipad\n",
        "*   000100 = iphone\n",
        "*   000010 = ipod\n",
        "*   000001 = other\n",
        "\n",
        "\n",
        "\n",
        "\n",
        "\n",
        "\n",
        "\n",
        "\n",
        "\n",
        "\n",
        "\n",
        "\n",
        "\n"
      ],
      "metadata": {
        "id": "OudPKSpzGWEs"
      }
    },
    {
      "cell_type": "code",
      "source": [
        "#Defining the dummies for platform\n",
        "final_data['Platform_FB'] = (final_data['Platform'] == 'facebook').astype(int)\n",
        "final_data['Platform_Insta'] = (final_data['Platform'] == 'instagram').astype(int)\n"
      ],
      "metadata": {
        "id": "mv8Szy-jHgme"
      },
      "execution_count": null,
      "outputs": []
    },
    {
      "cell_type": "code",
      "source": [
        "#Defining dummies for device\n",
        "final_data['Device_android_tablet'] = (final_data['Impression device'] == 'android_tablet').astype(int)\n",
        "final_data['Device_desktop'] = (final_data['Impression device'] == 'desktop').astype(int)\n",
        "final_data['Device_ipad'] = (final_data['Impression device'] == 'ipad').astype(int)\n",
        "final_data['Device_iphone'] = (final_data['Impression device'] == 'iphone').astype(int)\n",
        "final_data['Device_ipod'] = (final_data['Impression device'] == 'ipod').astype(int)\n",
        "final_data['Device_other'] = (final_data['Impression device'] == 'other').astype(int)\n",
        "\n"
      ],
      "metadata": {
        "id": "83PAjnDVKLvr"
      },
      "execution_count": null,
      "outputs": []
    },
    {
      "cell_type": "markdown",
      "source": [
        "# Removing missing values\n",
        "Some variables left some blanks. Blanks for numeric variables are replaced with '0'."
      ],
      "metadata": {
        "id": "25hJYl_4Q5y-"
      }
    },
    {
      "cell_type": "code",
      "source": [
        "final_data['Amount spent (EUR)'] = pd.to_numeric(final_data['Amount spent (EUR)'], errors='coerce').fillna(0).astype(int)\n",
        "final_data['CPM (cost per 1,000 impressions)'] = pd.to_numeric(final_data['CPM (cost per 1,000 impressions)'], errors='coerce').fillna(0).astype(int)\n",
        "final_data['Reach'] = pd.to_numeric(final_data['Reach'], errors='coerce').fillna(0).astype(int)\n",
        "final_data['Frequency'] = pd.to_numeric(final_data['Frequency'], errors='coerce').fillna(0).astype(int)\n",
        "final_data['CTR (all)'] = pd.to_numeric(final_data['CTR (all)'], errors='coerce').fillna(0).astype(int)\n",
        "final_data['Link clicks'] = pd.to_numeric(final_data['Link clicks'], errors='coerce').fillna(0).astype(int)\n",
        "final_data['CPC (all)'] = pd.to_numeric(final_data['CPC (all)'], errors='coerce').fillna(0).astype(int)\n",
        "final_data['CPC (cost per link click)'] = pd.to_numeric(final_data['CPC (cost per link click)'], errors='coerce').fillna(0).astype(int)\n",
        "final_data['Follows or likes'] = pd.to_numeric(final_data['Follows or likes'], errors='coerce').fillna(0).astype(int)\n",
        "final_data['Post comments'] = pd.to_numeric(final_data['Post comments'], errors='coerce').fillna(0).astype(int)\n",
        "final_data['Post reactions'] = pd.to_numeric(final_data['Post reactions'], errors='coerce').fillna(0).astype(int)\n",
        "final_data['Post shares'] = pd.to_numeric(final_data['Post shares'], errors='coerce').fillna(0).astype(int)\n",
        "final_data['CTR (link click-through rate)'] = pd.to_numeric(final_data['CTR (link click-through rate)'], errors='coerce').fillna(0).astype(int)"
      ],
      "metadata": {
        "id": "Ga43h5PYRGb9"
      },
      "execution_count": null,
      "outputs": []
    },
    {
      "cell_type": "code",
      "source": [
        "#This code is only relevant if you aim to use the dataset in SPSS\n",
        "\n",
        "#Renaming variables so that they're suitable for SPSS\n",
        "def clean_variable_name(name):\n",
        "    cleaned_name = re.sub(r'[^\\w\\s]', '', name).replace(' ', '_')\n",
        "    return cleaned_name\n",
        "\n",
        "\n",
        "columns_to_rename = [\n",
        "    'Ad set name',\n",
        "    'Impression device',\n",
        "    'Amount spent (EUR)',\n",
        "    'Impressions',\n",
        "    'Attribution setting',\n",
        "    'CPM (cost per 1,000 impressions)',\n",
        "    'Reach',\n",
        "    'Frequency',\n",
        "    'CTR (all)',\n",
        "    'Link clicks',\n",
        "    'CPC (all)',\n",
        "    'CPC (cost per link click)',\n",
        "    'Follows or likes',\n",
        "    'Post comments',\n",
        "    'Post reactions',\n",
        "    'Post shares',\n",
        "    'CTR (link click-through rate)'\n",
        "]\n",
        "\n",
        "renamed_columns = {column: clean_variable_name(column) for column in columns_to_rename}\n",
        "final_data.rename(columns=renamed_columns, inplace=True)\n",
        "\n",
        "print(renamed_columns)\n",
        "\n",
        "column_names = final_data.columns\n",
        "print(column_names)\n"
      ],
      "metadata": {
        "id": "-f9t6s-rVJqL"
      },
      "execution_count": null,
      "outputs": []
    },
    {
      "cell_type": "markdown",
      "source": [
        "#Column selection\n",
        "The following columns are selected to be included within the data set."
      ],
      "metadata": {
        "id": "dar8zIDbOWju"
      }
    },
    {
      "cell_type": "code",
      "source": [
        "\n",
        "\n",
        "selected_columns = [\n",
        "   'Day', 'Ad_set_name', 'Impression_device', 'Platform',\n",
        "       'Amount_spent_EUR', 'Impressions', 'CPM_cost_per_1000_impressions',\n",
        "       'Reach', 'Frequency', 'CTR_all', 'Link_clicks', 'CPC_all',\n",
        "       'Attribution_setting', 'CPC_cost_per_link_click', 'Follows_or_likes',\n",
        "       'Post_comments', 'Post_reactions', 'Post_shares',\n",
        "       'CTR_link_clickthrough_rate',\n",
        "       'concept', 'Emotion_Love', 'Emotion_Fear', 'Topic_Sprotection',\n",
        "       'Topic_Affiliation', 'Topic_Kincare', 'Appeal_Exp', 'Appeal_Testi',\n",
        "       'Appeal_Infor', 'Appeal_Pers', 'LStyle_Fperson', 'LStyle_Tperson',\n",
        "       'Platform_FB', 'Platform_Insta', 'Device_android_tablet',\n",
        "       'Device_desktop', 'Device_ipad', 'Device_iphone', 'Device_ipod',\n",
        "       'Device_other'\n",
        "\n",
        "\n",
        "]"
      ],
      "metadata": {
        "id": "He-1SStjPxH0"
      },
      "execution_count": null,
      "outputs": []
    },
    {
      "cell_type": "code",
      "source": [
        "final_data = final_data[selected_columns].reset_index()\n",
        "final_data.head()"
      ],
      "metadata": {
        "id": "zLvI50zbQlZc"
      },
      "execution_count": null,
      "outputs": []
    },
    {
      "cell_type": "markdown",
      "source": [
        "# Saving the file to .csv or SPSS\n",
        "\n"
      ],
      "metadata": {
        "id": "9nlIejvHRlm1"
      }
    },
    {
      "cell_type": "code",
      "source": [
        "final_data.to_csv('FileName', index=False)\n",
        "\n",
        "# Saving the file to SPSS format (if needed)\n",
        "pyreadstat.write_sav(final_data,'FileName')"
      ],
      "metadata": {
        "id": "k202qUt1Rt3u"
      },
      "execution_count": null,
      "outputs": []
    },
    {
      "cell_type": "code",
      "source": [],
      "metadata": {
        "id": "x3EvjgtZ8a_x"
      },
      "execution_count": null,
      "outputs": []
    }
  ]
}