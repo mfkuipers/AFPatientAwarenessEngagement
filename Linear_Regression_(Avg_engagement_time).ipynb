{
  "nbformat": 4,
  "nbformat_minor": 0,
  "metadata": {
    "colab": {
      "provenance": []
    },
    "kernelspec": {
      "name": "python3",
      "display_name": "Python 3"
    },
    "language_info": {
      "name": "python"
    }
  },
  "cells": [
    {
      "cell_type": "code",
      "execution_count": null,
      "metadata": {
        "id": "XujHhz2LopuA"
      },
      "outputs": [],
      "source": [
        "import pandas as pd\n",
        "from sklearn import linear_model\n",
        "import statsmodels.api as sm\n",
        "import matplotlib.pyplot as plt\n",
        "import numpy as np\n"
      ]
    },
    {
      "cell_type": "code",
      "source": [
        "!pip install pyreadstat\n"
      ],
      "metadata": {
        "id": "xOKVDGQisjA6"
      },
      "execution_count": null,
      "outputs": []
    },
    {
      "cell_type": "code",
      "source": [
        "df = pd.read_csv('YourFile')\n",
        "df.info()\n",
        "print(df)"
      ],
      "metadata": {
        "id": "jqW3fD23sBvt"
      },
      "execution_count": null,
      "outputs": []
    },
    {
      "cell_type": "markdown",
      "source": [
        "# Descriptive Statistics\n",
        "Before running the models, we first want to review the descriptive statistics of our variables. The following bar charts are created:\n",
        "\n",
        "\n",
        "*   Average Engagement Time per Campaign Element\n",
        "*   Average Engagement Time per Concept\n"
      ],
      "metadata": {
        "id": "pddnnIGnsITX"
      }
    },
    {
      "cell_type": "code",
      "source": [
        "# Average Engagement Time per Campaign Element\n",
        "X = df[['Emotion_Fear', 'Emotion_Love', 'Topic_Sprotection', 'Topic_Affiliation', 'Topic_Kincare',\n",
        "        'Appeal_Exp', 'Appeal_Testi', 'Appeal_Infor', 'Appeal_Pers', 'LStyle_Fperson', 'LStyle_Tperson']]\n",
        "Y = df['avg_engagement_time_sec']\n",
        "\n",
        "\n",
        "plt.figure(figsize=(12, 6))\n",
        "\n",
        "\n",
        "bar_width = 0.6\n",
        "colors = ['#d83555'] * len(X.columns)\n",
        "\n",
        "x_values_all = []\n",
        "for i, column in enumerate(X.columns):\n",
        "    true_values_df = df[df[column] == 1]\n",
        "\n",
        "    if not true_values_df.empty:\n",
        "        x_values = np.arange(len(true_values_df.groupby(column))) + i * 1.5 * bar_width\n",
        "        plt.bar(x_values, true_values_df.groupby(column)['avg_engagement_time_sec'].mean(),\n",
        "                width=bar_width, label=column, color=colors[i])\n",
        "        x_values_all.extend(x_values)\n",
        "\n",
        "\n",
        "        for idx, value in enumerate(true_values_df.groupby(column)['avg_engagement_time_sec'].mean()):\n",
        "            plt.text(x_values[idx], value + 0.05, f\"{value:.0f}\", ha='center', va='bottom', fontsize=10) #color='#d83555')\n",
        "    else:\n",
        "        print(f\"No true values for {column}, skipping.\")\n",
        "\n",
        "plt.title('Average Engagement Time for Campaign Element Variables')\n",
        "plt.xlabel('Campaign Element Variables')\n",
        "plt.ylabel('Average Engagement Time (Seconds)')\n",
        "\n",
        "plt.xticks(x_values_all, X.columns * len(x_values), rotation=45, ha= 'right')\n",
        "\n",
        "plt.show()\n",
        "\n",
        "\n",
        "\n",
        "\n"
      ],
      "metadata": {
        "id": "yGIw88evsNEo"
      },
      "execution_count": null,
      "outputs": []
    },
    {
      "cell_type": "code",
      "source": [
        "#Average Engagement Time per Concept\n",
        "X = df['concept']\n",
        "Y = df['avg_engagement_time_sec']\n",
        "\n",
        "filtered_data = df[(df['avg_engagement_time_sec'].notnull()) & (df['concept'] != 13)]\n",
        "\n",
        "means = filtered_data.groupby('concept')['avg_engagement_time_sec'].mean()\n",
        "\n",
        "means = means.sort_values(ascending=False)\n",
        "\n",
        "plt.figure(figsize=(12, 6))\n",
        "bars = plt.bar(means.index.astype(str), means, color='#d83555')\n",
        "\n",
        "for bar in bars:\n",
        "    plt.text(bar.get_x() + bar.get_width() / 2, bar.get_height() + 0.05, f\"{bar.get_height():.0f}\", ha='center')\n",
        "\n",
        "plt.xlabel('Concept')\n",
        "plt.ylabel('Average Engagement Time (Sec)')\n",
        "plt.title('Average Engagement Time per Concept')\n",
        "\n",
        "plt.xticks(rotation=45, ha='right')\n",
        "\n",
        "plt.tight_layout()\n",
        "\n",
        "plt.show()\n",
        "\n"
      ],
      "metadata": {
        "id": "tQTpxNsrt2Ld"
      },
      "execution_count": null,
      "outputs": []
    },
    {
      "cell_type": "markdown",
      "source": [
        "In order to make the linear regression model make sense, we need to filter the data so that only avg_engagement_time_sec values of higher than 0 are taken into consideration."
      ],
      "metadata": {
        "id": "yJvCFGW1zKVM"
      }
    },
    {
      "cell_type": "code",
      "source": [
        "filtered_df = df[df['avg_engagement_time_sec'] > 0]\n",
        "row_count = len(filtered_df)\n",
        "filtered_df.info()"
      ],
      "metadata": {
        "id": "T4HI14F_zV2_"
      },
      "execution_count": null,
      "outputs": []
    },
    {
      "cell_type": "markdown",
      "source": [
        "# Model 1: Communication Concepts main effects\n",
        "This section contains out models that measure the effect the content related dummies have on Avg_engagement_time.\n",
        "\n",
        "The communication variables:\n",
        "\n",
        "\n",
        "*  Emotion (Love vs. Fear)\n",
        "*  Topic (Self protection vs. Affiliation vs. Kin-Care)\n",
        "*  Appeal 1 (Expert vs. Testimonial)\n",
        "*  Appeal 2 (Informative vs. Persuasive)\n",
        "*  Linguistic style (First-person vs. Third-person)"
      ],
      "metadata": {
        "id": "unLEP2ARvpAq"
      }
    },
    {
      "cell_type": "code",
      "source": [
        "X = df[['Emotion_Fear', 'Topic_Affiliation', 'Topic_Kincare', 'Appeal_Testi', 'Appeal_Pers', 'LStyle_Tperson']]\n",
        "Y = df['avg_engagement_time_sec']"
      ],
      "metadata": {
        "id": "lvK3Rnvgs0W0"
      },
      "execution_count": null,
      "outputs": []
    },
    {
      "cell_type": "code",
      "source": [
        "X = sm.add_constant(X)\n",
        "model = sm.OLS(Y, X).fit()\n",
        "predictions = model.predict(X)\n",
        "print_model = model.summary()\n",
        "print(print_model)"
      ],
      "metadata": {
        "id": "hZLmyMg4s9QO"
      },
      "execution_count": null,
      "outputs": []
    },
    {
      "cell_type": "markdown",
      "source": [
        "# Model 2: Supportive Model with Control Variables\n",
        "Control variables to include:\n",
        "\n",
        "\n",
        "*   Part of week (PW): PW_weekend_dummy\n",
        "*   Part of day  (PD): PD_afternoon, PD_evening_dummy, PD_night_dummy\n",
        "*   Working hours (WH): WH_workhours_dummy\n",
        "*   Device Category (DC): DC_desktop_dummy, DC_tablet_dummy"
      ],
      "metadata": {
        "id": "DZZwX2f4SmfM"
      }
    },
    {
      "cell_type": "code",
      "source": [
        "X = df[['PW_weekend_dummy','PD_afternoon_dummy','PD_evening_dummy','PD_night_dummy','WH_workhours_dummy','DC_desktop_dummy','DC_tablet_dummy']]\n",
        "Y = df['avg_engagement_time_sec']"
      ],
      "metadata": {
        "id": "TU6KjzYISq3S"
      },
      "execution_count": null,
      "outputs": []
    },
    {
      "cell_type": "code",
      "source": [
        "X = sm.add_constant(X)\n",
        "model = sm.OLS(Y, X).fit()\n",
        "predictions = model.predict(X)\n",
        "print_model = model.summary()\n",
        "print(print_model)"
      ],
      "metadata": {
        "id": "35BdIxW5StyC"
      },
      "execution_count": null,
      "outputs": []
    },
    {
      "cell_type": "markdown",
      "source": [
        "# Model 3: Campaign dummies and control variables\n",
        "This section contains out models that measure the effect the content related dummies have on avg_engagement_time_sec while also includig the control variables.\n",
        "\n",
        "The communication variables:\n",
        "\n",
        "\n",
        "*  Emotion (Love vs. Fear)\n",
        "*  Topic (Self-protection vs. Affiliation vs. Kincare)\n",
        "*  Appeal 1 (Expert vs. Testimonial)\n",
        "*  Appeal 2 (Informative vs. Persuasive)\n",
        "*  Linguistic style (First-person vs. Third-person)\n",
        "\n",
        "Control variables that are included:\n",
        "\n",
        "\n",
        "*   Part of week (PW): PW_weekend_dummy\n",
        "*   Part of day  (PD): PD_afternoon, PD_evening_dummy, PD_night_dummy\n",
        "*   Working hours (WH): WH_workhours_dummy\n",
        "*   Device Category (DC): DC_desktop_dummy, DC_tablet_dummy"
      ],
      "metadata": {
        "id": "vJW2Y36LDIK6"
      }
    },
    {
      "cell_type": "code",
      "source": [
        "X = df[['Emotion_Fear','Topic_Affiliation','Topic_Kincare','Appeal_Testi','Appeal_Pers','LStyle_Tperson','PW_weekend_dummy','PD_afternoon_dummy','PD_evening_dummy','PD_night_dummy','WH_workhours_dummy','DC_desktop_dummy','DC_tablet_dummy']]\n",
        "Y = df['avg_engagement_time_sec']"
      ],
      "metadata": {
        "id": "7hT1uRT7yfeg"
      },
      "execution_count": null,
      "outputs": []
    },
    {
      "cell_type": "code",
      "source": [
        "X = sm.add_constant(X)\n",
        "model = sm.OLS(Y, X).fit()\n",
        "predictions = model.predict(X)\n",
        "print_model = model.summary()\n",
        "print(print_model)"
      ],
      "metadata": {
        "id": "ieIJNrDhyzYe"
      },
      "execution_count": null,
      "outputs": []
    },
    {
      "cell_type": "markdown",
      "source": [
        "# Model 4: Interaction effects\n",
        "This section contains out of models that measure the effect of different interactions between our campaign's predictor variables on avg_engagement_time.\n",
        "\n",
        "**The interactions:**\n",
        "\n",
        "Emotion and Device:\n",
        "*   Emotion_Fear x Topic_Affiliation\n",
        "*   Emotion_Fear x Topic_Kincare\n",
        "\n"
      ],
      "metadata": {
        "id": "8QfVP-DLAENK"
      }
    },
    {
      "cell_type": "code",
      "source": [
        "\n",
        "#Emotion and Topic\n",
        "df['Emotion_Fear x Topic_Affiliation'] = df['Emotion_Fear'] * df['Topic_Affiliation']\n",
        "df['Emotion_Fear x Topic_Kincare'] = df['Emotion_Fear'] * df['Topic_Kincare']\n"
      ],
      "metadata": {
        "id": "Us38LDImAIt_"
      },
      "execution_count": null,
      "outputs": []
    },
    {
      "cell_type": "code",
      "source": [
        "X = df[['Emotion_Fear','Topic_Affiliation','Topic_Kincare','Appeal_Testi','Appeal_Pers','LStyle_Tperson','PW_weekend_dummy','PD_afternoon_dummy','PD_evening_dummy','PD_night_dummy','WH_workhours_dummy','DC_desktop_dummy','DC_tablet_dummy','Emotion_Fear x Topic_Affiliation','Emotion_Fear x Topic_Kincare',]]\n",
        "Y = df['avg_engagement_time_sec']"
      ],
      "metadata": {
        "id": "DZ2ExE2Tq5Fo"
      },
      "execution_count": null,
      "outputs": []
    },
    {
      "cell_type": "code",
      "source": [
        "X = sm.add_constant(X)\n",
        "model = sm.OLS(Y, X).fit()\n",
        "predictions = model.predict(X)\n",
        "print_model = model.summary()\n",
        "print(print_model)"
      ],
      "metadata": {
        "id": "KC9rgyEcq9kN"
      },
      "execution_count": null,
      "outputs": []
    }
  ]
}