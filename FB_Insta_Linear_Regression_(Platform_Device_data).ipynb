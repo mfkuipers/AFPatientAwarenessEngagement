{
  "nbformat": 4,
  "nbformat_minor": 0,
  "metadata": {
    "colab": {
      "provenance": []
    },
    "kernelspec": {
      "name": "python3",
      "display_name": "Python 3"
    },
    "language_info": {
      "name": "python"
    }
  },
  "cells": [
    {
      "cell_type": "code",
      "execution_count": null,
      "metadata": {
        "id": "XujHhz2LopuA"
      },
      "outputs": [],
      "source": [
        "import pandas as pd\n",
        "from sklearn import linear_model\n",
        "import statsmodels.api as sm\n",
        "import matplotlib.pyplot as plt\n",
        "import numpy as np\n"
      ]
    },
    {
      "cell_type": "code",
      "source": [
        "!pip install pyreadstat\n"
      ],
      "metadata": {
        "id": "xOKVDGQisjA6"
      },
      "execution_count": null,
      "outputs": []
    },
    {
      "cell_type": "code",
      "source": [
        "df = pd.read_csv('YourFile')\n",
        "df.info()\n",
        "print(df)"
      ],
      "metadata": {
        "id": "jqW3fD23sBvt"
      },
      "execution_count": null,
      "outputs": []
    },
    {
      "cell_type": "markdown",
      "source": [
        "# Descriptive Statistics"
      ],
      "metadata": {
        "id": "7MnjL0YroyUi"
      }
    },
    {
      "cell_type": "markdown",
      "source": [
        "Before running the models, we first want to review the descriptive statistics of our variables. The following bar charts are created:\n",
        "\n",
        "\n",
        "*   Average CTR per Campaign Element\n",
        "*   Average CTR per Concept\n",
        "*   Total Link Clicks for Campaign Element Variables\n",
        "*   Total Link Clicks per Concept\n",
        "*   Total Link Clicks and Impressions per Concept\n",
        "\n",
        "\n",
        "\n",
        "\n"
      ],
      "metadata": {
        "id": "pddnnIGnsITX"
      }
    },
    {
      "cell_type": "code",
      "source": [
        "#Average CTR per Campaign Element\n",
        "X = df[['Emotion_Fear', 'Emotion_Love', 'Topic_Sprotection', 'Topic_Affiliation', 'Topic_Kincare',\n",
        "        'Appeal_Exp', 'Appeal_Testi', 'Appeal_Infor', 'Appeal_Pers', 'LStyle_Fperson', 'LStyle_Tperson']]\n",
        "Y = df['CTR_link_clickthrough_rate']\n",
        "\n",
        "plt.figure(figsize=(12, 6))\n",
        "bar_width = 0.6\n",
        "colors = ['#717f9d'] * len(X.columns)\n",
        "\n",
        "x_values_all = []\n",
        "for i, column in enumerate(X.columns):\n",
        "    true_values_df = df[df[column] == 1]\n",
        "\n",
        "    if not true_values_df.empty:\n",
        "        x_values = np.arange(len(true_values_df.groupby(column))) + i * 1.5 * bar_width\n",
        "        plt.bar(x_values, true_values_df.groupby(column)['CTR (link click-through rate)'].mean(),\n",
        "                width=bar_width, label=column, color=colors[i])\n",
        "        x_values_all.extend(x_values)\n",
        "\n",
        "        for idx, value in enumerate(true_values_df.groupby(column)['CTR (link click-through rate)'].mean()):\n",
        "            plt.text(x_values[idx], value + 0.05, f\"{value:.2f}\", ha='center', va='bottom', fontsize=10) #color='#717f9d')\n",
        "    else:\n",
        "        print(f\"No true values for {column}, skipping.\")\n",
        "\n",
        "plt.ylim(0, df['CTR (link click-through rate)'].mean() + 1)\n",
        "plt.title('Average Link Click-Through-Rate (CTR) for Campaign Element Variables')\n",
        "plt.xlabel('Campaign Element Variables')\n",
        "plt.ylabel('CTR (%)')\n",
        "plt.xticks(x_values_all, X.columns * len(x_values), rotation=45, ha= 'right')\n",
        "plt.show()\n",
        "\n",
        "\n",
        "\n",
        "\n"
      ],
      "metadata": {
        "id": "yGIw88evsNEo"
      },
      "execution_count": null,
      "outputs": []
    },
    {
      "cell_type": "code",
      "source": [
        "#Average CTR per concept\n",
        "X = df['concept']\n",
        "Y = df['CTR (link click-through rate)']\n",
        "\n",
        "\n",
        "filtered_data = df[(df['CTR (link click-through rate)'].notnull()) & (df['concept'] != 13)]\n",
        "means = filtered_data.groupby('concept')['CTR (link click-through rate)'].mean()\n",
        "means = means.sort_values(ascending=False)\n",
        "\n",
        "plt.figure(figsize=(12, 6))\n",
        "bars = plt.bar(means.index.astype(str), means, color='#717f9d')\n",
        "\n",
        "\n",
        "for bar in bars:\n",
        "    plt.text(bar.get_x() + bar.get_width() / 2, bar.get_height() + 0.05, f\"{bar.get_height():.2f}\", ha='center')\n",
        "\n",
        "\n",
        "plt.ylim(0, df['CTR (link click-through rate)'].mean() + 2)\n",
        "plt.xlabel('Concept')\n",
        "plt.ylabel('CTR (%)')\n",
        "plt.title('Average Link Click-Through-Rate (CTR) per Concept')\n",
        "plt.xticks(rotation=45, ha='right')\n",
        "plt.tight_layout()\n",
        "\n",
        "\n",
        "plt.show()\n",
        "\n"
      ],
      "metadata": {
        "id": "tQTpxNsrt2Ld"
      },
      "execution_count": null,
      "outputs": []
    },
    {
      "cell_type": "code",
      "source": [
        "# Total Link Clicks for Campaign Element Variables\n",
        "X = df[['Emotion_Fear', 'Emotion_Love', 'Topic_Sprotection', 'Topic_Affiliation', 'Topic_Kincare',\n",
        "        'Appeal_Exp', 'Appeal_Testi', 'Appeal_Infor', 'Appeal_Pers', 'LStyle_Fperson', 'LStyle_Tperson']]\n",
        "Y = df['Link clicks']\n",
        "\n",
        "plt.figure(figsize=(12, 6))\n",
        "bar_width = 0.6\n",
        "colors = ['#717f9d'] * len(X.columns)\n",
        "\n",
        "x_values_all = []\n",
        "for i, column in enumerate(X.columns):\n",
        "    true_values_df = df[df[column] == 1]\n",
        "\n",
        "    if not true_values_df.empty:\n",
        "        x_values = np.arange(len(true_values_df.groupby(column))) + i * 1.5 * bar_width\n",
        "        plt.bar(x_values, true_values_df.groupby(column)['Link clicks'].sum(),\n",
        "                width=bar_width, label=column, color=colors[i])\n",
        "        x_values_all.extend(x_values)\n",
        "\n",
        "        for idx, value in enumerate(true_values_df.groupby(column)['Link clicks'].sum()):\n",
        "            plt.text(x_values[idx], value + 0.05, f\"{value:.0f}\", ha='center', va='bottom', fontsize=10) #color='#717f9d')\n",
        "    else:\n",
        "        print(f\"No true values for {column}, skipping.\")\n",
        "\n",
        "plt.title('Total Link Clicks for Campaign Element Variables')\n",
        "plt.xlabel('Campaign Element Variables')\n",
        "plt.ylabel('Link Clicks')\n",
        "\n",
        "plt.xticks(x_values_all, X.columns * len(x_values), rotation=45, ha= 'right')\n",
        "\n",
        "plt.show()\n",
        "\n",
        "\n"
      ],
      "metadata": {
        "id": "W2f4co5N4jlo"
      },
      "execution_count": null,
      "outputs": []
    },
    {
      "cell_type": "code",
      "source": [
        "#Amount of Link Clicks per concept\n",
        "X = df['concept']\n",
        "Y = df['Link clicks']\n",
        "\n",
        "filtered_data = df[(df['Link clicks'].notnull()) & (df['concept'] != 13)]\n",
        "\n",
        "means = filtered_data.groupby('concept')['Link clicks'].sum()\n",
        "means = means.sort_values(ascending=False)\n",
        "\n",
        "plt.figure(figsize=(12, 6))\n",
        "bars = plt.bar(means.index.astype(str), means, color='#717f9d')\n",
        "\n",
        "for bar in bars:\n",
        "    plt.text(bar.get_x() + bar.get_width() / 2, bar.get_height() + 0.05, f\"{bar.get_height():.0f}\", ha='center')\n",
        "\n",
        "plt.xlabel('Concept')\n",
        "plt.ylabel('Link Clicks')\n",
        "plt.title('Total Link Clicks per Concept')\n",
        "\n",
        "plt.xticks(rotation=45, ha='right')\n",
        "\n",
        "plt.tight_layout()\n",
        "\n",
        "plt.show()"
      ],
      "metadata": {
        "id": "TIe2uTF26V3e"
      },
      "execution_count": null,
      "outputs": []
    },
    {
      "cell_type": "code",
      "source": [
        "import matplotlib.pyplot as plt\n",
        "import matplotlib.patches as patches\n",
        "\n",
        "# Amount of Link Clicks and Impressions per concept\n",
        "X = df['concept']\n",
        "Y_link_clicks = df['Link clicks']\n",
        "Y_impressions = df['Impressions']\n",
        "\n",
        "filtered_data = df[(df['Link clicks'].notnull()) & (df['Impressions'].notnull()) & (df['concept'] != 13)]\n",
        "sums = filtered_data.groupby('concept')[['Link clicks', 'Impressions']].sum()\n",
        "\n",
        "sums = sums.sort_values(by='Link clicks', ascending=False)\n",
        "fig, ax1 = plt.subplots(figsize=(12, 6))\n",
        "\n",
        "bar_width = 0.35\n",
        "bar_positions = range(len(sums))\n",
        "\n",
        "\n",
        "bars_link_clicks = ax1.bar([pos - bar_width/2 for pos in bar_positions], sums['Link clicks'], width=bar_width, label='Link clicks', color='#717f9d')\n",
        "\n",
        "ax1.set_xlabel('Concept')\n",
        "ax1.set_ylabel('Link Clicks')\n",
        "ax1.set_title('Total Link Clicks and Impressions per Concept')\n",
        "\n",
        "\n",
        "ax1.set_xticks(bar_positions)\n",
        "ax1.set_xticklabels(sums.index.astype(str), rotation=45, ha='right')\n",
        "\n",
        "ax2 = ax1.twinx()\n",
        "bars_impressions = ax2.bar([pos + bar_width/2 for pos in bar_positions], sums['Impressions'], width=bar_width, label='Impressions', color='#dadfe9')\n",
        "\n",
        "ax2.set_ylabel('Impressions', fontsize=11)\n",
        "\n",
        "plt.tight_layout()\n",
        "\n",
        "plt.show()"
      ],
      "metadata": {
        "id": "aTBDXSekIZvt"
      },
      "execution_count": null,
      "outputs": []
    },
    {
      "cell_type": "markdown",
      "source": [
        "# Linear Regression"
      ],
      "metadata": {
        "id": "CNZpKIJvo7mD"
      }
    },
    {
      "cell_type": "markdown",
      "source": [
        "In order to make the linear regression model make sense, we need to filter the data so that only CTR (Link clicks) values of higher than 0 are taken into consideration."
      ],
      "metadata": {
        "id": "yJvCFGW1zKVM"
      }
    },
    {
      "cell_type": "code",
      "source": [
        "filtered_df = df[df['CTR_link_clickthrough_rate'] > 0]\n",
        "row_count = len(filtered_df)\n",
        "filtered_df.info()"
      ],
      "metadata": {
        "id": "T4HI14F_zV2_"
      },
      "execution_count": null,
      "outputs": []
    },
    {
      "cell_type": "markdown",
      "source": [
        "# Model 1: Main Communication Variables\n"
      ],
      "metadata": {
        "id": "unLEP2ARvpAq"
      }
    },
    {
      "cell_type": "code",
      "source": [
        "X = df[['Emotion_Fear', 'Topic_Affiliation', 'Topic_Kincare', 'Appeal_Testi', 'Appeal_Pers', 'LStyle_Tperson']]\n",
        "Y = df['CTR_link_clickthrough_rate']"
      ],
      "metadata": {
        "id": "lvK3Rnvgs0W0"
      },
      "execution_count": null,
      "outputs": []
    },
    {
      "cell_type": "code",
      "source": [
        "X = sm.add_constant(X)\n",
        "model = sm.OLS(Y, X).fit()\n",
        "predictions = model.predict(X)\n",
        "print_model = model.summary()\n",
        "print(print_model)"
      ],
      "metadata": {
        "id": "hZLmyMg4s9QO"
      },
      "execution_count": null,
      "outputs": []
    },
    {
      "cell_type": "markdown",
      "source": [
        "# Model 2: Supportive Model with Control Variables\n",
        "Control variables to include:\n",
        "\n",
        "\n",
        "*   Platform: Platform_Insta\n",
        "*   Device: Device_desktop, Device_ipad, Device_iphone, Device_ipod, Device_other"
      ],
      "metadata": {
        "id": "DZZwX2f4SmfM"
      }
    },
    {
      "cell_type": "code",
      "source": [
        "X = df[['Platform_Insta','Device_desktop','Device_ipad','Device_iphone','Device_ipod','Device_other']]\n",
        "Y = df['CTR_link_clickthrough_rate']"
      ],
      "metadata": {
        "id": "TU6KjzYISq3S"
      },
      "execution_count": null,
      "outputs": []
    },
    {
      "cell_type": "code",
      "source": [
        "X = sm.add_constant(X)\n",
        "model = sm.OLS(Y, X).fit()\n",
        "predictions = model.predict(X)\n",
        "print_model = model.summary()\n",
        "print(print_model)"
      ],
      "metadata": {
        "id": "35BdIxW5StyC"
      },
      "execution_count": null,
      "outputs": []
    },
    {
      "cell_type": "markdown",
      "source": [
        "# Model 3: Campaign dummies and control variables\n",
        "This section contains out models that measure the effect the content related dummies have on CTR while also includig the control variables.\n",
        "\n",
        "The campaign dummies:\n",
        "\n",
        "\n",
        "*  Emotion (Love vs. Fear)\n",
        "*  Topic (Self-protection vs. Affiliation vs. Kincare)\n",
        "*  Appeal 1 (Expert vs. Testimonial)\n",
        "*  Appeal 2 (Informative vs. Persuasive)\n",
        "*  Linguistic style (First-person vs. Third-person)\n",
        "\n",
        "Control variables that are included:\n",
        "\n",
        "*   Platform: Platform_Insta\n",
        "*   Device: Device_desktop, Device_ipad, Device_iphone, Device_ipod, Device_other\n"
      ],
      "metadata": {
        "id": "vJW2Y36LDIK6"
      }
    },
    {
      "cell_type": "code",
      "source": [
        "X = df[['Emotion_Fear','Topic_Affiliation','Topic_Kincare','Appeal_Testi','Appeal_Pers','LStyle_Tperson','Platform_Insta','Device_desktop','Device_ipad','Device_iphone','Device_ipod','Device_other']]\n",
        "Y = df['CTR_link_clickthrough_rate']"
      ],
      "metadata": {
        "id": "7hT1uRT7yfeg"
      },
      "execution_count": null,
      "outputs": []
    },
    {
      "cell_type": "code",
      "source": [
        "X = sm.add_constant(X)\n",
        "model = sm.OLS(Y, X).fit()\n",
        "predictions = model.predict(X)\n",
        "print_model = model.summary()\n",
        "print(print_model)"
      ],
      "metadata": {
        "id": "ieIJNrDhyzYe"
      },
      "execution_count": null,
      "outputs": []
    }
  ]
}