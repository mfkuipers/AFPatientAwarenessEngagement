{
  "cells": [
    {
      "cell_type": "code",
      "execution_count": null,
      "metadata": {
        "id": "oCZnU80wshVX"
      },
      "outputs": [],
      "source": [
        "!pip install pyreadstat"
      ]
    },
    {
      "cell_type": "code",
      "execution_count": null,
      "metadata": {
        "id": "_VSynvyRqwUe"
      },
      "outputs": [],
      "source": [
        "import pandas as pd\n",
        "from sklearn import linear_model\n",
        "import statsmodels.api as sm\n",
        "import numpy as np\n",
        "import matplotlib.pyplot as plt"
      ]
    },
    {
      "cell_type": "code",
      "execution_count": null,
      "metadata": {
        "id": "cSYYKIQLtUZH"
      },
      "outputs": [],
      "source": [
        "df = pd.read_csv('YourFile')\n",
        "df.head()\n",
        "print(df['concept'].unique())"
      ]
    },
    {
      "cell_type": "markdown",
      "source": [
        "# Descriptive Statistics\n",
        "Before running the models, we first want to review the descriptive statistics of our variables. The following bar charts are created:\n",
        "\n",
        "\n",
        "*   Community Subscriptions per Communication Variable\n",
        "*   The Count (N) For Communication Variables\n",
        "*   The Count (N) For Sample Size\n",
        "*   Community Subscriptions per Concept\n",
        "\n",
        "\n",
        "\n"
      ],
      "metadata": {
        "id": "MZuQZyNvXZsa"
      }
    },
    {
      "cell_type": "code",
      "source": [
        "#Community Subscriptions per Communication Variable\n",
        "X = df[['Emotion_Fear', 'Emotion_Love', 'Topic_Sprotection', 'Topic_Affiliation', 'Topic_Kincare',\n",
        "        'Appeal_Exp', 'Appeal_Testi', 'Appeal_Infor', 'Appeal_Pers', 'LStyle_Fperson', 'LStyle_Tperson']]\n",
        "Y = df['ComSub_dummy']\n",
        "\n",
        "filtered_data = df[df['ComSub_dummy'] == 1]\n",
        "\n",
        "counts = filtered_data[X.columns].sum()\n",
        "\n",
        "plt.figure(figsize=(12, 6))\n",
        "bars = plt.bar(counts.index, counts, width=0.6,color='skyblue')\n",
        "\n",
        "for bar in bars:\n",
        "    plt.text(bar.get_x() + bar.get_width() / 2, bar.get_height() + 0.05, str(int(bar.get_height())), ha='center')\n",
        "\n",
        "plt.xlabel('Campaign Element Variables')\n",
        "plt.ylabel('Count for Community Subscriptions')\n",
        "plt.title('Community Subscriptions per Campaign Element')\n",
        "\n",
        "plt.xticks(rotation=45, ha='right')\n",
        "\n",
        "plt.tight_layout()\n",
        "\n",
        "plt.show()"
      ],
      "metadata": {
        "id": "PwoQhxbuXfJY"
      },
      "execution_count": null,
      "outputs": []
    },
    {
      "cell_type": "code",
      "source": [
        "#The Count (N) For Communication Variables\n",
        "X = df[['Emotion_Fear', 'Emotion_Love', 'Topic_Sprotection', 'Topic_Affiliation', 'Topic_Kincare',\n",
        "        'Appeal_Exp', 'Appeal_Testi', 'Appeal_Infor', 'Appeal_Pers', 'LStyle_Fperson', 'LStyle_Tperson']]\n",
        "\n",
        "absolute_sums = X.abs().sum()\n",
        "\n",
        "plt.figure(figsize=(10, 6))\n",
        "bar_chart = plt.bar(absolute_sums.index, absolute_sums.values, color='skyblue')\n",
        "\n",
        "for bar, value in zip(bar_chart, absolute_sums.values):\n",
        "    plt.text(bar.get_x() + bar.get_width() / 2 - 0.1, bar.get_height() + 0.1, str(value), fontsize=9, ha='center')\n",
        "\n",
        "plt.title('Sample Size (N) for Campaign Element Variables on Platform')\n",
        "plt.xlabel('Campaign Element Variables')\n",
        "plt.ylabel('Count')\n",
        "plt.xticks(rotation=45, ha='right')\n",
        "plt.tight_layout()\n",
        "\n",
        "plt.show()"
      ],
      "metadata": {
        "id": "_FGkVhz5i8iG"
      },
      "execution_count": null,
      "outputs": []
    },
    {
      "cell_type": "code",
      "source": [
        "#The Count (N) For Sample Size\n",
        "X = df['concept']\n",
        "df['concept'] = pd.to_numeric(df['concept'], errors='coerce')\n",
        "\n",
        "\n",
        "filtered_data = df[(df['first_visit'] == 1) & (df['concept'] != 13)]\n",
        "\n",
        "counts = filtered_data['concept'].value_counts()\n",
        "\n",
        "plt.figure(figsize=(12, 6))\n",
        "bars = plt.bar(counts.index.astype(str), counts, color='skyblue')\n",
        "\n",
        "for bar in bars:\n",
        "    plt.text(bar.get_x() + bar.get_width() / 2, bar.get_height() + 0.05, str(int(bar.get_height())), ha='center')\n",
        "\n",
        "plt.xlabel('Concept')\n",
        "plt.ylabel('Count')\n",
        "plt.title('Concept sample size (N)')\n",
        "\n",
        "plt.xticks(rotation=45, ha='right')\n",
        "\n",
        "plt.tight_layout()\n",
        "\n",
        "plt.show()"
      ],
      "metadata": {
        "id": "SuaGupz6dxa6"
      },
      "execution_count": null,
      "outputs": []
    },
    {
      "cell_type": "code",
      "source": [
        "#Community Subscriptions per Concept\n",
        "X = df['concept']\n",
        "Y = df['ComSub_dummy']\n",
        "\n",
        "df['concept'] = pd.to_numeric(df['concept'], errors='coerce')\n",
        "\n",
        "filtered_data = df[(df['ComSub_dummy'] == 1) & (df['concept'] != 13)]\n",
        "\n",
        "counts = filtered_data['concept'].value_counts()\n",
        "\n",
        "plt.figure(figsize=(12, 6))\n",
        "bars = plt.bar(counts.index.astype(str), counts, color='skyblue')\n",
        "\n",
        "for bar in bars:\n",
        "    plt.text(bar.get_x() + bar.get_width() / 2, bar.get_height() + 0.05, str(int(bar.get_height())), ha='center')\n",
        "\n",
        "plt.xlabel('Concept')\n",
        "plt.ylabel('Count for Community Subscriptions')\n",
        "plt.title('Community Subscriptions per Concept')\n",
        "\n",
        "plt.xticks(rotation=45, ha='right')\n",
        "\n",
        "plt.tight_layout()\n",
        "\n",
        "plt.show()\n"
      ],
      "metadata": {
        "id": "Uyp0eqPglo77"
      },
      "execution_count": null,
      "outputs": []
    },
    {
      "cell_type": "markdown",
      "metadata": {
        "id": "3zm14yFO83TL"
      },
      "source": [
        "I am running a Pearson correlation check in Pandas to determine the correlations between the independent variables."
      ]
    },
    {
      "cell_type": "code",
      "execution_count": null,
      "metadata": {
        "id": "JWc13Oqj82TP"
      },
      "outputs": [],
      "source": [
        "correlation_matrix = df[['Emotion_Fear','Topic_Affiliation','Topic_Kincare','Appeal_Testi','Appeal_Pers','LStyle_Tperson', 'ComSub_dummy','avg_engagement_time_sec']].corr()\n",
        "\n",
        "# Print the correlation matrix\n",
        "print(correlation_matrix)\n",
        "correlation_matrix.to_csv('Pearson_Correlation.csv', index=False)"
      ]
    },
    {
      "cell_type": "markdown",
      "metadata": {
        "id": "t4em4Gavt0hn"
      },
      "source": [
        "# Model 1: Communication Variables main effects\n",
        "This section contains out models that measure the effect the communication variables have on ComSub_dummy.\n",
        "\n",
        "The communication variables:\n",
        "\n",
        "\n",
        "*  Emotion (Love vs. Fear)\n",
        "*  Topic (Self-protection vs. Affiliation vs. Kincare)\n",
        "*  Appeal 1 (Expert vs. Testimonial)\n",
        "*  Appeal 2 (Informative vs. Persuasive)\n",
        "*  Linguistic style (First-person vs. Third-person)"
      ]
    },
    {
      "cell_type": "code",
      "execution_count": null,
      "metadata": {
        "id": "AL4Jl4nfucwZ"
      },
      "outputs": [],
      "source": [
        "X = df[['Emotion_Fear','Topic_Affiliation','Topic_Kincare','Appeal_Testi','Appeal_Pers','LStyle_Tperson',]]\n",
        "Y = df['ComSub_dummy']"
      ]
    },
    {
      "cell_type": "code",
      "execution_count": null,
      "metadata": {
        "id": "IPVhf-TMxWkE"
      },
      "outputs": [],
      "source": [
        "X = sm.add_constant(X)\n",
        "logit_mod = sm.Logit(Y, X).fit()\n",
        "print(logit_mod.summary())\n",
        "params = logit_mod.params\n",
        "conf = logit_mod.conf_int()\n",
        "conf['OR'] = params\n",
        "conf.columns = [\"Lower CI\", \"Upper CI\", \"OR\"]\n",
        "np.exp(conf)\n"
      ]
    },
    {
      "cell_type": "markdown",
      "metadata": {
        "id": "77u0BZvlP87V"
      },
      "source": [
        "# Model 2: Supportive Model with Control Variables\n",
        "Control variables to include:\n",
        "\n",
        "\n",
        "*   Part of week (PW): PW_weekend_dummy\n",
        "*   Part of day  (PD): PD_afternoon, PD_evening_dummy, PD_night_dummy\n",
        "*   Working hours (WH): WH_workhours_dummy\n",
        "*   Device Category (DC): DC_desktop_dummy, DC_tablet_dummy\n",
        "\n",
        "\n",
        "\n"
      ]
    },
    {
      "cell_type": "code",
      "execution_count": null,
      "metadata": {
        "id": "B19exLdCRCtZ"
      },
      "outputs": [],
      "source": [
        "X = df[['PW_weekend_dummy','PD_afternoon_dummy','PD_evening_dummy','PD_night_dummy','WH_workhours_dummy','DC_desktop_dummy','DC_tablet_dummy']]\n",
        "Y = df['ComSub_dummy']"
      ]
    },
    {
      "cell_type": "code",
      "execution_count": null,
      "metadata": {
        "id": "DQsvLGoIRdHK"
      },
      "outputs": [],
      "source": [
        "X = sm.add_constant(X)\n",
        "logit_mod = sm.Logit(Y, X).fit()\n",
        "print(logit_mod.summary())\n",
        "params = logit_mod.params\n",
        "conf = logit_mod.conf_int()\n",
        "conf['OR'] = params\n",
        "conf.columns = [\"Lower CI\", \"Upper CI\", \"OR\"]\n",
        "np.exp(conf)\n",
        "\n"
      ]
    },
    {
      "cell_type": "markdown",
      "metadata": {
        "id": "vJW2Y36LDIK6"
      },
      "source": [
        "# Model 3: Communication Variables and control variables\n",
        "This section contains out models that measure the effect the communication variables have on ComSub_dummy while also includig the control variables.\n",
        "\n",
        "The communication variables:\n",
        "\n",
        "\n",
        "*  Emotion (Love vs. Fear)\n",
        "*  Topic (Self protection vs. Affiliation vs. Kin-Care)\n",
        "*  Appeal 1 (Expert vs. Testimonial)\n",
        "*  Appeal 2 (Informative vs. Persuasive)\n",
        "*  Linguistic style (First-person vs. Third-person)\n",
        "\n",
        "Control variables that are included:\n",
        "\n",
        "\n",
        "*   Part of week (PW): PW_weekend_dummy\n",
        "*   Part of day  (PD): PD_afternoon, PD_evening_dummy, PD_night_dummy\n",
        "*   Working hours (WH): WH_workhours_dummy\n",
        "*   Device Category (DC): DC_desktop_dummy, DC_tablet_dummy"
      ]
    },
    {
      "cell_type": "code",
      "execution_count": null,
      "metadata": {
        "id": "cjapeiaFtwr2"
      },
      "outputs": [],
      "source": [
        "X = df[['Emotion_Fear','Topic_Affiliation','Topic_Kincare','Appeal_Testi','Appeal_Pers','LStyle_Tperson','PW_weekend_dummy','PD_afternoon_dummy','PD_evening_dummy','PD_night_dummy','WH_workhours_dummy','DC_desktop_dummy','DC_tablet_dummy']]\n",
        "Y = df['ComSub_dummy']"
      ]
    },
    {
      "cell_type": "code",
      "execution_count": null,
      "metadata": {
        "id": "n3WbrKtOtz__"
      },
      "outputs": [],
      "source": [
        "X = sm.add_constant(X)\n",
        "logit_mod = sm.Logit(Y, X).fit()\n",
        "print(logit_mod.summary())\n",
        "params = logit_mod.params\n",
        "conf = logit_mod.conf_int()\n",
        "conf['OR'] = params\n",
        "conf.columns = [\"Lower CI\", \"Upper CI\", \"OR\"]\n",
        "np.exp(conf)\n"
      ]
    },
    {
      "cell_type": "markdown",
      "metadata": {
        "id": "SWZ_GymJdOob"
      },
      "source": [
        "# Model 4: Interaction effects\n",
        "This section contains out of models that measure the effect of different interactions between our campaign's predictor variables on ComSub_dummy.\n",
        "\n",
        "**The interactions:**\n",
        "\n",
        "Emotion and Topic:\n",
        "*   Emotion_Fear x Topic_Affiliation\n",
        "*   Emotion_Fear x Topic_Kincare\n",
        "\n",
        "\n",
        "\n",
        "\n",
        "\n",
        "\n",
        "\n",
        "\n",
        "\n",
        "\n",
        "\n",
        "\n",
        "\n",
        "\n",
        "\n"
      ]
    },
    {
      "cell_type": "code",
      "execution_count": null,
      "metadata": {
        "id": "H9j2XBVteZyP"
      },
      "outputs": [],
      "source": [
        "\n",
        "\n",
        "#Emotion and Topic\n",
        "df['Emotion_Fear x Topic_Affiliation'] = df['Emotion_Fear'] * df['Topic_Affiliation']\n",
        "df['Emotion_Fear x Topic_Kincare'] = df['Emotion_Fear'] * df['Topic_Kincare']\n",
        "\n",
        "\n"
      ]
    },
    {
      "cell_type": "code",
      "source": [
        "X = df[['Emotion_Fear','Topic_Affiliation','Topic_Kincare','Appeal_Testi','Appeal_Pers','LStyle_Tperson','PW_weekend_dummy','PD_afternoon_dummy','PD_evening_dummy','PD_night_dummy','WH_workhours_dummy','DC_desktop_dummy','DC_tablet_dummy','Emotion_Fear x Topic_Affiliation','Emotion_Fear x Topic_Kincare']]\n",
        "Y = df['ComSub_dummy']"
      ],
      "metadata": {
        "id": "g35VgsWmMlDm"
      },
      "execution_count": null,
      "outputs": []
    },
    {
      "cell_type": "code",
      "source": [
        "X = sm.add_constant(X)\n",
        "logit_mod = sm.Logit(Y, X).fit()\n",
        "print(logit_mod.summary())\n",
        "params = logit_mod.params\n",
        "conf = logit_mod.conf_int()\n",
        "conf['OR'] = params\n",
        "conf.columns = [\"Lower CI\", \"Upper CI\", \"OR\"]\n",
        "np.exp(conf)"
      ],
      "metadata": {
        "id": "AT6qG1SwMofi"
      },
      "execution_count": null,
      "outputs": []
    },
    {
      "cell_type": "code",
      "source": [
        "X = df[['Emotion_Fear x Topic_Affiliation','Emotion_Fear x Topic_Kincare','LStyle_Tperson x Topic_Affiliation','LStyle_Tperson x Topic_Kincare','Appeal_Testi x LStyle_Tperson','Appeal_Pers x Topic_Affiliation','Appeal_Pers x Topic_Kincare','PW_weekend_dummy','PD_afternoon_dummy','PD_evening_dummy','PD_night_dummy','WH_workhours_dummy','DC_desktop_dummy','DC_tablet_dummy']]\n",
        "Y = df['ComSub_dummy']"
      ],
      "metadata": {
        "id": "ON-eT2qT9mv3"
      },
      "execution_count": null,
      "outputs": []
    },
    {
      "cell_type": "code",
      "source": [
        "X = sm.add_constant(X)\n",
        "logit_mod = sm.Logit(Y, X).fit()\n",
        "print(logit_mod.summary())\n",
        "params = logit_mod.params\n",
        "conf = logit_mod.conf_int()\n",
        "conf['OR'] = params\n",
        "conf.columns = [\"Lower CI\", \"Upper CI\", \"OR\"]\n",
        "np.exp(conf)"
      ],
      "metadata": {
        "id": "BXF7dnQC-COR"
      },
      "execution_count": null,
      "outputs": []
    }
  ],
  "metadata": {
    "colab": {
      "provenance": []
    },
    "kernelspec": {
      "display_name": "Python 3",
      "name": "python3"
    },
    "language_info": {
      "name": "python"
    }
  },
  "nbformat": 4,
  "nbformat_minor": 0
}