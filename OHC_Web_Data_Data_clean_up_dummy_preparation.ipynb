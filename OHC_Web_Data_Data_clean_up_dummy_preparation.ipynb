{
  "nbformat": 4,
  "nbformat_minor": 0,
  "metadata": {
    "colab": {
      "provenance": [],
      "toc_visible": true
    },
    "kernelspec": {
      "name": "python3",
      "display_name": "Python 3"
    },
    "language_info": {
      "name": "python"
    }
  },
  "cells": [
    {
      "cell_type": "code",
      "source": [],
      "metadata": {
        "id": "SiEFGzZeLQdW"
      },
      "execution_count": null,
      "outputs": []
    },
    {
      "cell_type": "markdown",
      "source": [
        "# Introduction\n",
        "This document will describe the steps that were taken to prepare the OHC (the AFIP Foundation) website data for analysis.\n",
        "\n",
        "The data set contains data coming from an online field experiment that ran between May 23 until June 23 (2023). 12 different advertisements were distributed on Facebook and Instagram and sent people to a website on which different levels of web behavior and engagement was measured. After importing the individual level data through BigQuery, the data was cleaned and prepared with the code below.\n"
      ],
      "metadata": {
        "id": "cFrEVZpm5A3m"
      }
    },
    {
      "cell_type": "code",
      "execution_count": null,
      "metadata": {
        "id": "yDpb5EKe42Ov"
      },
      "outputs": [],
      "source": [
        "import pandas as pd\n",
        "!pip install pyreadstat\n",
        "import pyreadstat\n",
        "\n",
        "df = pd.read_csv('YourFile')"
      ]
    },
    {
      "cell_type": "markdown",
      "source": [
        "The 'user_pseudo_id' variable needs to be transformed to an integer data type. And to better interpret the average engagement time on the web page, we also convert 'engagement_time_msec' into a new variable that represents seconds instead of milliseconds."
      ],
      "metadata": {
        "id": "qtFp5tf37CNu"
      }
    },
    {
      "cell_type": "code",
      "source": [
        "#Converting 'user_pseudo_id' into an integer\n",
        "df['user_pseudo_id'] = df['user_pseudo_id'].astype(int)\n",
        "df.set_index('user_pseudo_id', inplace=True)\n",
        "\n",
        "#Converting 'engagement_time_msec' to seconds\n",
        "df['engagement_time_sec'] = df['engagement_time_msec'] / 1000\n"
      ],
      "metadata": {
        "id": "glZfO2qG7Bys"
      },
      "execution_count": null,
      "outputs": []
    },
    {
      "cell_type": "markdown",
      "source": [
        "# Grouping data\n",
        "We are interested in data related to the first visit of a website user. To make sure that the data set only includes users that came in through our campaign experiment, the page url should also only contain the campaign parameters. The following filter conditions are included:\n",
        "\n",
        "*   First_visit == 1(True)\n",
        "*   The page_url contains the number of the concepts that range from 1 to 12 (/concept-').\n"
      ],
      "metadata": {
        "id": "QThrz3zO7cvG"
      }
    },
    {
      "cell_type": "code",
      "source": [
        "grouped_data = df[(df['first_visit'] == 1) & (df['page_url'].str.contains('/concept-''))].groupby('user_pseudo_id').first()\n"
      ],
      "metadata": {
        "id": "ZQuOtHyg5lzr"
      },
      "execution_count": null,
      "outputs": []
    },
    {
      "cell_type": "markdown",
      "source": [
        "The events that occured on the website need to be summed up per unique user before creating the dummies of whether an event occured (1= YES, 0= NO). These are the main events that could have occured per user:\n",
        "\n",
        "\n",
        "*   email_nederlands: someone signed up to receive emails\n",
        "*   community_aanmelding: someone signed up to become part of the community\n",
        "*   contact_nederlands: someone requested contact\n",
        "*   account_registratie: someone created a website / forum account\n",
        "*   session_engaged: a session that lasted longer than 10 seconds, has a conversion event, or has at least 2 page- or screenviews.\n",
        "\n",
        "\n",
        "\n",
        "\n",
        "\n"
      ],
      "metadata": {
        "id": "zJQl1hJc8v__"
      }
    },
    {
      "cell_type": "code",
      "source": [
        "sum_columns = ['email_nederlands', 'community_aanmelding', 'contact_nederlands', 'account_registratie', 'session_engaged']\n",
        "sum_data = df.groupby('user_pseudo_id')[sum_columns].sum()\n",
        "sum_data.columns = [f'sum_{col}' for col in sum_data.columns]\n",
        "final_data = grouped_data.merge(sum_data, left_index=True, right_index=True)"
      ],
      "metadata": {
        "id": "ybwfl-Xa9Nqk"
      },
      "execution_count": null,
      "outputs": []
    },
    {
      "cell_type": "markdown",
      "source": [
        "# Creating dummy variables\n",
        "\n",
        "In this data set, multiple dummy variables are created. This section will explain the definition of the dummy variables, followed by the code.\n",
        "\n",
        "**Main variable dummies**\n",
        "\n",
        "Dummies are assigned based on the page URL that was visited by a unique user during the first visit. The experiment contains 12 different communication concepts. The concepts (i.e., concepts 1 to 12) contain differtent emotions, topics, appeal and linguistic style. Each concept has its own URL path on which the concept variables are based :\n",
        "\n",
        "*   Concept 1: contains 'concept-1/' in URL\n",
        "*   Concept 2: contains 'concept-2/' in URL\n",
        "*   Concept 3: contains 'concept-3/' in URL\n",
        "*   Concept 4: contains 'concept-4/' in URL\n",
        "*   Concept 5: contains 'concept-5/' in URL\n",
        "*   Concept 6: contains 'concept-6/' in URL\n",
        "*   Concept 7: contains 'concept-7/' in URL\n",
        "*   Concept 8: contains 'concept-8/' in URL\n",
        "*   Concept 9: contains 'concept-9/' in URL\n",
        "*   Concept 10: contains 'concept-10/' in URL\n",
        "*   Concept 11: contains 'concept-11/' in URL\n",
        "*   Concept 12: contains 'concept-12/' in URL\n",
        "\n",
        "\n",
        "\n",
        "\n",
        "\n"
      ],
      "metadata": {
        "id": "L_e5T4Tj-jIq"
      }
    },
    {
      "cell_type": "code",
      "source": [
        "def generate_dummies(page_url):\n",
        "    dummies = {\n",
        "        'Emotion_Love':0,\n",
        "        'Emotion_Fear': 0,\n",
        "        'Topic_Sprotection':0,\n",
        "        'Topic_Affiliation': 0,\n",
        "        'Topic_Kincare': 0,\n",
        "        'Appeal_Exp':0,\n",
        "        'Appeal_Testi': 0,\n",
        "        'Appeal_Infor':0,\n",
        "        'Appeal_Pers': 0,\n",
        "        'LStyle_Fperson':0,\n",
        "        'LStyle_Tperson': 0,\n",
        "    }\n",
        "\n",
        "\n",
        "    if 'concept-1/' in page_url:\n",
        "        dummies['Emotion_Love'] = 1\n",
        "        dummies['Topic_Kincare'] = 1\n",
        "        dummies['Appeal_Testi'] = 1\n",
        "        dummies['Appeal_Pers'] = 1\n",
        "        dummies['LStyle_Fperson'] = 1\n",
        "    elif 'concept-2/' in page_url:\n",
        "        dummies['Emotion_Fear'] = 1\n",
        "        dummies['Topic_Sprotection'] = 1\n",
        "        dummies['Appeal_Exp'] = 1\n",
        "        dummies['Appeal_Infor'] = 1\n",
        "        dummies['LStyle_Tperson'] = 1\n",
        "    elif 'concept-3/' in page_url:\n",
        "        dummies['Emotion_Fear'] = 1\n",
        "        dummies['Topic_Affiliation'] = 1\n",
        "        dummies['Appeal_Testi'] = 1\n",
        "        dummies['Appeal_Pers'] = 1\n",
        "        dummies['LStyle_Tperson'] = 1\n",
        "    elif 'concept-4/' in page_url:\n",
        "        dummies['Emotion_Love'] = 1\n",
        "        dummies['Topic_Sprotection'] = 1\n",
        "        dummies['Appeal_Testi'] = 1\n",
        "        dummies['Appeal_Infor'] = 1\n",
        "        dummies['LStyle_Fperson'] = 1\n",
        "    elif 'concept-5/' in page_url:\n",
        "        dummies['Emotion_Fear'] = 1\n",
        "        dummies['Topic_Kincare'] = 1\n",
        "        dummies['Appeal_Exp'] = 1\n",
        "        dummies['Appeal_Infor'] = 1\n",
        "        dummies['LStyle_Fperson'] = 1\n",
        "    elif 'concept-6/' in page_url:\n",
        "        dummies['Emotion_Love'] = 1\n",
        "        dummies['Topic_Affiliation'] = 1\n",
        "        dummies['Appeal_Testi'] = 1\n",
        "        dummies['Appeal_Infor'] = 1\n",
        "        dummies['LStyle_Tperson'] = 1\n",
        "    elif 'concept-7/' in page_url:\n",
        "        dummies['Emotion_Fear'] = 1\n",
        "        dummies['Topic_Kincare'] = 1\n",
        "        dummies['Appeal_Testi'] = 1\n",
        "        dummies['Appeal_Pers'] = 1\n",
        "        dummies['LStyle_Tperson'] = 1\n",
        "    elif 'concept-8/' in page_url:\n",
        "        dummies['Emotion_Love'] = 1\n",
        "        dummies['Topic_Affiliation'] = 1\n",
        "        dummies['Appeal_Exp'] = 1\n",
        "        dummies['Appeal_Infor'] = 1\n",
        "        dummies['LStyle_Fperson'] = 1\n",
        "    elif 'concept-9/' in page_url:\n",
        "        dummies['Emotion_Fear'] = 1\n",
        "        dummies['Topic_Sprotection'] = 1\n",
        "        dummies['Appeal_Exp'] = 1\n",
        "        dummies['Appeal_Testi'] = 1\n",
        "        dummies['Appeal_Pers'] = 1\n",
        "        dummies['LStyle_Fperson'] = 1\n",
        "    elif 'concept-10/' in page_url:\n",
        "        dummies['Emotion_Love'] = 1\n",
        "        dummies['Topic_Kincare'] = 1\n",
        "        dummies['Appeal_Exp'] = 1\n",
        "        dummies['Appeal_Infor'] = 1\n",
        "        dummies['LStyle_Tperson'] = 1\n",
        "    elif 'concept-11/' in page_url:\n",
        "        dummies['Emotion_Love'] = 1\n",
        "        dummies['Topic_Affiliation'] = 1\n",
        "        dummies['Appeal_Exp'] = 1\n",
        "        dummies['Appeal_Pers'] = 1\n",
        "        dummies['LStyle_Tperson'] = 1\n",
        "    elif 'concept-12/' in page_url:\n",
        "        dummies['Emotion_Fear'] = 1\n",
        "        dummies['Topic_Sprotection'] = 1\n",
        "        dummies['Appeal_Exp'] = 1\n",
        "        dummies['Appeal_Pers'] = 1\n",
        "        dummies['LStyle_Fperson'] = 1\n",
        "\n",
        "    return dummies"
      ],
      "metadata": {
        "id": "F54KiDEo-Ouh"
      },
      "execution_count": null,
      "outputs": []
    },
    {
      "cell_type": "markdown",
      "source": [
        "**Concept label dummies**\n",
        "\n",
        "This function creates a variable, named 'concepts', that will label the concept numbers based on the URL paths."
      ],
      "metadata": {
        "id": "O5odtVjgA8ms"
      }
    },
    {
      "cell_type": "code",
      "source": [
        "def generate_concept(page_url):\n",
        "\n",
        "    elif 'concept-1/' in page_url:\n",
        "        return 1\n",
        "    elif 'concept-2/' in page_url:\n",
        "        return 2\n",
        "    elif 'concept-3/' in page_url:\n",
        "        return 3\n",
        "    elif 'concept-4/' in page_url:\n",
        "        return 4\n",
        "    elif 'concept-5/' in page_url:\n",
        "        return 5\n",
        "    elif 'concept-6/' in page_url:\n",
        "        return 6\n",
        "    elif 'concept-7/' in page_url:\n",
        "        return 7\n",
        "    elif 'concept-8/' in page_url:\n",
        "        return 8\n",
        "    elif 'concept-9/' in page_url:\n",
        "        return 9\n",
        "    elif 'concept-10/' in page_url:\n",
        "        return 10\n",
        "    elif 'concept-11/' in page_url:\n",
        "        return 11\n",
        "    elif 'concept-12/' in page_url:\n",
        "        return 12\n",
        "    else:\n",
        "        return 0\n"
      ],
      "metadata": {
        "id": "4tTUOs7dA_2d"
      },
      "execution_count": null,
      "outputs": []
    },
    {
      "cell_type": "markdown",
      "source": [
        "The next step is to apply the results from the functions to the dataframe."
      ],
      "metadata": {
        "id": "qw48JPzvBaLN"
      }
    },
    {
      "cell_type": "code",
      "source": [
        "final_data['dummies'] = grouped_data['page_url'].apply(generate_dummies)\n",
        "final_data['concept'] = grouped_data['page_url'].apply(generate_concept)\n",
        "\n",
        "page_url_dummies = final_data.groupby('user_pseudo_id')['page_url'].first().apply(generate_dummies).apply(pd.Series)\n",
        "\n",
        "final_data = final_data.join(page_url_dummies)\n"
      ],
      "metadata": {
        "id": "6W_FJF6JBm5K"
      },
      "execution_count": null,
      "outputs": []
    },
    {
      "cell_type": "markdown",
      "source": [
        "**Engagement time dummies**\n",
        "\n",
        "The original engagement_time_msec variable takes the engagement time in milliseconds of the first visit. To also take other engagement time into consideration, extra variables are created to get more insights in the avarage and total time someone spent on the website. The following dummies are generated:\n",
        "\n",
        "\n",
        "*   avg_engagement_time_msec: the average time a user spent during all of the website sessions that took place between May 23 to June 23 (2023).\n",
        "*   total_engagement_time_msec:  the total time a user spent during all of the website sessions that took place between May 23 to June 23 (2023).\n",
        "*   user_engaged_time: users that were not marked as engaged (i.e., session_engaged == 0) during the first visit, but still had some milliseconds of engagement registered.\n",
        "\n",
        "\n",
        "\n"
      ],
      "metadata": {
        "id": "hphYnfaNCKgK"
      }
    },
    {
      "cell_type": "code",
      "source": [
        "user_session_avg_engagement_time = df.groupby(['user_pseudo_id', 'session_id'])['engagement_time_sec'].mean()\n",
        "user_total_avg_engagement_time = user_session_avg_engagement_time.reset_index().groupby('user_pseudo_id')['engagement_time_sec'].sum()\n",
        "final_data['total_engagement_time_sec'] = user_total_avg_engagement_time\n",
        "\n",
        "# Calculating the average engagement time for each unique session_id and user_pseudo_id\n",
        "session_avg_engagement_time = df.groupby(['user_pseudo_id', 'session_id'])['engagement_time_sec'].mean()\n",
        "user_avg_engagement_time = session_avg_engagement_time.reset_index().groupby('user_pseudo_id')['engagement_time_sec'].mean()\n",
        "\n",
        "final_data['avg_engagement_time_sec'] = user_avg_engagement_time\n",
        "\n",
        "\n",
        "def calculate_user_engaged_time(row):\n",
        "    if row['session_engaged'] == 0 and row['engagement_time_sec'] > 0:\n",
        "        return 1  # YES\n",
        "    else:\n",
        "        return 0  # NO\n",
        "\n",
        "final_data['user_engaged_time'] = final_data.apply(calculate_user_engaged_time, axis=1)"
      ],
      "metadata": {
        "id": "F-qHF95oCPmo"
      },
      "execution_count": null,
      "outputs": []
    },
    {
      "cell_type": "markdown",
      "source": [
        "**Time related dummy variables**\n",
        "\n",
        "The time related dummy variables are created based on the date variable. A 1= YES or 0= NO value is attributed to the following time dimensios:\n",
        "\n",
        "\n",
        "*Part of week (PW)*\n",
        "*   Week: a day in the (work) week (reference: coded as 0)\n",
        "*   Weekend: a day in the weekend (coded as 1)\n",
        "\n",
        "*Part of day (PD)*\n",
        "* Morning: time between 06:00 and 12:00  (reference: coded as 000)\n",
        "* Afternoon: time between 12:00 and 18:00  (coded as 100)\n",
        "* Evening: time between 18:00 and 12:00 (coded as 010)\n",
        "* Night: time between 00:00 and 06:00   (coded as 001)\n",
        "\n",
        "*Working hours (WH)*\n",
        "\n",
        "\n",
        "*   Non working hours: time between 18:00 and 09:00 (reference: coded as 0)\n",
        "*   Working hours: time between 09:00 and 18:00 (coded as 1)\n",
        "\n",
        "*Date to day number*\n",
        "\n",
        "The date is also transformed into the day number of the campaign length. The campaign ran from May 23 until June 23 (2023). Thus, May 23 is marked as day 1 and June 23 as day 32.\n",
        "\n",
        "\n",
        "\n",
        "\n",
        "\n",
        "\n",
        "\n",
        "\n"
      ],
      "metadata": {
        "id": "OudPKSpzGWEs"
      }
    },
    {
      "cell_type": "code",
      "source": [
        "# Creating the part of week dummies (week=0, weekend=1)\n",
        "final_data['PW_week_dummy'] = (final_data['part_of_week'] == 'week').astype(int)\n",
        "final_data['PW_weekend_dummy'] = (final_data['part_of_week'] == 'weekend').astype(int)\n",
        "\n",
        "# Creating the part of day dummies (morning= 0, others =1)\n",
        "final_data['PD_morning_dummy'] = (final_data['part_of_day'] == 'morning').astype(int)\n",
        "final_data['PD_afternoon_dummy'] = (final_data['part_of_day'] == 'afternoon').astype(int)\n",
        "final_data['PD_evening_dummy'] = (final_data['part_of_day'] == 'evening').astype(int)\n",
        "final_data['PD_night_dummy'] = (final_data['part_of_day'] == 'night').astype(int)\n",
        "\n",
        "# Creating working hours dummies (non working hours=0, working hours=1)\n",
        "final_data['WH_nonworking_dummy'] = (final_data['working_hours'] == 'non-working hours').astype(int)\n",
        "final_data['WH_workhours_dummy'] = (final_data['working_hours'] == 'working hours').astype(int)\n",
        "\n",
        "final_data['date'] = pd.to_datetime(final_data['date'], format='%Y%m%d')\n",
        "\n",
        "start_date = pd.Timestamp(\"2023-05-23\")\n",
        "end_date = pd.Timestamp(\"2023-06-23\")\n",
        "\n",
        "\n",
        "final_data['date_dummy'] = (final_data['date'] - start_date).dt.days + 1"
      ],
      "metadata": {
        "id": "mv8Szy-jHgme"
      },
      "execution_count": null,
      "outputs": []
    },
    {
      "cell_type": "markdown",
      "source": [
        "**Event dummies**\n",
        "\n",
        "The following dummies represent the events that occured during the website visits of users. Again, 1= YES, 0= NO.\n",
        "\n",
        "* Email_dummy: someone signed up to receive emails\n",
        "*   ComSub_dummy: someone signed up to become part of the community\n",
        "*   Contact_dummy: someone requested contact\n",
        "*   Account_dummy: someone created a website / forum account\n",
        "*   Engaged_All_Sessions: someone engaged* at least in one website session\n",
        "*   Engaged_Not_First_Visit: someone engaged* in at least one website session, but not during the first visit.\n",
        "\n",
        "*Engaged session: a session that lasted longer than 10 seconds, has a conversion event, or has at least 2 page- or screenviews.\n",
        "\n",
        "\n",
        "\n"
      ],
      "metadata": {
        "id": "FUZ6Suh9KGaj"
      }
    },
    {
      "cell_type": "code",
      "source": [
        "final_data['Email_dummy'] = (final_data['sum_email_nederlands'] > 0).astype(int)\n",
        "final_data['ComSub_dummy'] = (final_data['sum_community_aanmelding'] > 0).astype(int)\n",
        "final_data['Contact_dummy'] = (final_data['sum_contact_nederlands'] > 0).astype(int)\n",
        "final_data['Account_dummy'] = (final_data['sum_account_registratie'] > 0).astype(int)\n",
        "final_data['Engaged_All_Sessions'] = (final_data['sum_session_engaged'] > 0).astype(int)\n",
        "final_data['Engaged_Not_First_Visit'] = ((final_data['first_visit'] == 0) & (final_data['sum_session_engaged'] > 0)).astype(int)  # Use 'sum_' prefix\n"
      ],
      "metadata": {
        "id": "PVhS6rpWKP3R"
      },
      "execution_count": null,
      "outputs": []
    },
    {
      "cell_type": "markdown",
      "source": [
        "**Device Category dummies**\n",
        "\n",
        "The following dummies allocate the device, which the website user used to visit the website, to one of the following categories:\n",
        "\n",
        "*   Mobile (reference: coded as 00)\n",
        "*   Desktop (coded as 10)\n",
        "*   Tablet (coded as 01)\n",
        "\n",
        "\n",
        "\n",
        "\n"
      ],
      "metadata": {
        "id": "uUp-E-VVNViq"
      }
    },
    {
      "cell_type": "code",
      "source": [
        "final_data['DC_desktop_dummy'] = (final_data['device_category'] == 'desktop').astype(int)\n",
        "final_data['DC_tablet_dummy'] = (final_data['device_category'] == 'tablet').astype(int)\n",
        "final_data['DC_mobile_dummy']= (final_data['device_category'] == 'mobile').astype(int)"
      ],
      "metadata": {
        "id": "EHF14pWiNUlr"
      },
      "execution_count": null,
      "outputs": []
    },
    {
      "cell_type": "markdown",
      "source": [
        "#Column selection\n",
        "The following columns are selected to be included within the data set."
      ],
      "metadata": {
        "id": "dar8zIDbOWju"
      }
    },
    {
      "cell_type": "code",
      "source": [
        "selected_columns = [\n",
        "    'date', 'date_dummy', 'session_id', 'first_visit_date', 'event_timestamp','part_of_week', 'PW_week_dummy','PW_weekend_dummy', 'part_of_day', 'PD_morning_dummy','PD_afternoon_dummy', 'PD_evening_dummy','PD_night_dummy','working_hours','WH_nonworking_dummy', 'WH_workhours_dummy','page_url', 'device_category','DC_mobile_dummy','DC_desktop_dummy','DC_tablet_dummy',\n",
        "    'city', 'campaign', 'concept', 'Emotion_Love','Emotion_Fear', 'Topic_Sprotection','Topic_Affiliation',\n",
        "    'Topic_Kincare','Appeal_Exp', 'Appeal_Testi','Appeal_Infor', 'Appeal_Pers','LStyle_Fperson', 'LStyle_Tperson', 'first_visit',\n",
        "    'Email_dummy', 'ComSub_dummy', 'Contact_dummy', 'Account_dummy', 'session_engaged','Engaged_All_Sessions', 'Engaged_Not_First_Visit', 'engagement_time_msec','engagement_time_sec', 'avg_engagement_time_sec', 'total_engagement_time_sec','user_engaged_time'\n",
        "]"
      ],
      "metadata": {
        "id": "He-1SStjPxH0"
      },
      "execution_count": null,
      "outputs": []
    },
    {
      "cell_type": "code",
      "source": [
        "final_data = final_data[selected_columns].reset_index()"
      ],
      "metadata": {
        "id": "zLvI50zbQlZc"
      },
      "execution_count": null,
      "outputs": []
    },
    {
      "cell_type": "markdown",
      "source": [
        "# Removing missing values\n",
        "Some variables left some blanks. Blanks for numeric variables are replaced with '0'. Missing values for object types, such as City, are replaced with 'unknown'."
      ],
      "metadata": {
        "id": "25hJYl_4Q5y-"
      }
    },
    {
      "cell_type": "code",
      "source": [
        "final_data['engagement_time_sec'] = pd.to_numeric(final_data['engagement_time_sec'], errors='coerce').fillna(0).astype(int)\n",
        "final_data['avg_engagement_time_sec'] = pd.to_numeric(final_data['avg_engagement_time_sec'], errors='coerce').fillna(0).astype(int)\n",
        "final_data['total_engagement_time_sec'] = pd.to_numeric(final_data['total_engagement_time_sec'], errors='coerce').fillna(0).astype(int)\n",
        "\n",
        "final_data['city'] = final_data['city'].astype(str).apply(lambda x: x.strip())\n",
        "final_data['city'].replace('', 'Unknown', inplace=True)"
      ],
      "metadata": {
        "id": "Ga43h5PYRGb9"
      },
      "execution_count": null,
      "outputs": []
    },
    {
      "cell_type": "markdown",
      "source": [
        "# Saving the file to .csv\n",
        "\n"
      ],
      "metadata": {
        "id": "9nlIejvHRlm1"
      }
    },
    {
      "cell_type": "code",
      "source": [
        "final_data.to_csv('YourFile', index=False)\n",
        "\n",
        "# Saving the file to SPSS format (if needed)\n",
        "pyreadstat.write_sav(final_data, 'YourFile')"
      ],
      "metadata": {
        "id": "k202qUt1Rt3u"
      },
      "execution_count": null,
      "outputs": []
    },
    {
      "cell_type": "code",
      "source": [],
      "metadata": {
        "id": "x3EvjgtZ8a_x"
      },
      "execution_count": null,
      "outputs": []
    }
  ]
}